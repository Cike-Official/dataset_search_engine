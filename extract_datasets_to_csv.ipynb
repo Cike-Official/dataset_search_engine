{
 "cells": [
  {
   "cell_type": "markdown",
   "metadata": {},
   "source": [
    "# Learning Outcomes for this Module on Big Data (6CS030):\n",
    "#### LO1 – Apply appropriate theory, tools and techniques to problems associated with big data.\n",
    "#### LO2 – Synthesise solutions to problems from the big data domain.\n",
    "#### LO3 – Analyse and evaluate solutions to big data problems.\n",
    "#### LO4 – Present results of solutions using appropriate methods."
   ]
  },
  {
   "cell_type": "markdown",
   "metadata": {},
   "source": [
    "# Gathering dataset sources\n",
    "- Datasetlist - www.datasetlist.com\n",
    "- Kaggle - www.kaggle.com"
   ]
  },
  {
   "cell_type": "markdown",
   "metadata": {},
   "source": [
    "## Get list of datasets from datasetlist.com\n"
   ]
  },
  {
   "cell_type": "code",
   "execution_count": 3,
   "metadata": {
    "tags": [
     "Source file: datasetlist.com"
    ]
   },
   "outputs": [
    {
     "name": "stdout",
     "output_type": "stream",
     "text": [
      "✅ Successfully saved 295 datasets to ./csv_files/dataset_list.csv\n"
     ]
    }
   ],
   "source": [
    "import json\n",
    "import csv\n",
    "import re\n",
    "\n",
    "# Load the JavaScript file\n",
    "file_path = \"./source/datasets.js\"\n",
    "\n",
    "with open(file_path, \"r\", encoding=\"utf-8\") as file:\n",
    "    js_content = file.read()\n",
    "\n",
    "# Extract JSON data using regex\n",
    "match = re.search(r\"var datasetList = (\\[.*?\\]);\", js_content, re.DOTALL)\n",
    "if match:\n",
    "    dataset_json = match.group(1)  # Extract JSON part\n",
    "    dataset_list = json.loads(dataset_json)  # Convert JSON string to Python list\n",
    "\n",
    "    # Define CSV output file\n",
    "    csv_filename = \"./csv_files/dataset_list.csv\"\n",
    "\n",
    "    # Open CSV file and write data\n",
    "    with open(csv_filename, mode=\"w\", newline=\"\", encoding=\"utf-8\") as file:\n",
    "        writer = csv.writer(file)\n",
    "        \n",
    "        # Write CSV header\n",
    "        writer.writerow([\"ID\", \"Category\", \"Name\", \"Description\", \"Year\", \"Link\", \"License\", \"PDF\"])\n",
    "        \n",
    "        # Write dataset rows\n",
    "        for d in dataset_list:\n",
    "            writer.writerow([\n",
    "                d[\"id\"],\n",
    "                d[\"type\"],  # Category\n",
    "                d[\"name\"],\n",
    "                d[\"description\"],\n",
    "                d[\"year\"],\n",
    "                d[\"link\"],\n",
    "                d[\"license\"],\n",
    "            # Replace empty pdf links, if not available\n",
    "                d[\"pdf\"] if d.get(\"pdf\") else \"N/A\"  \n",
    "            ])\n",
    "\n",
    "    print(f\"✅ Successfully saved {len(dataset_list)} datasets to {csv_filename}\")\n",
    "\n",
    "else:\n",
    "    print(\"❌ Dataset list not found in the JavaScript file.\")\n"
   ]
  },
  {
   "cell_type": "markdown",
   "metadata": {},
   "source": [
    "## Preprocess dataset list from Kaggle\n",
    "\n",
    "### 1. Computer vision"
   ]
  },
  {
   "cell_type": "code",
   "execution_count": 1,
   "metadata": {},
   "outputs": [
    {
     "name": "stdout",
     "output_type": "stream",
     "text": [
      "✅ Successfully saved 60 Kaggle datasets to ./csv_files/kaggle_cv_datasets.csv\n"
     ]
    }
   ],
   "source": [
    "import json\n",
    "import csv\n",
    "import re\n",
    "\n",
    "# Load Kaggle JSON response\n",
    "file_path = \"./source/kaggle_cv_datasets.json\"  # Update if needed\n",
    "\n",
    "with open(file_path, \"r\", encoding=\"utf-8\") as file:\n",
    "    data = json.load(file)  # Load JSON\n",
    "\n",
    "# Extract dataset list\n",
    "dataset_list = data.get(\"datasetList\", {}).get(\"items\", [])\n",
    "\n",
    "# Define CSV output file\n",
    "csv_filename = \"./csv_files/kaggle_cv_datasets.csv\"\n",
    "\n",
    "# Open CSV file and write data\n",
    "with open(csv_filename, mode=\"w\", newline=\"\", encoding=\"utf-8\") as file:\n",
    "    writer = csv.writer(file)\n",
    "\n",
    "    # Write CSV header\n",
    "    writer.writerow([\"ID\", \"Category\", \"Name\", \"Description\", \"Year\", \"Link\", \"License\", \"PDF\"])\n",
    "\n",
    "    # Write dataset rows\n",
    "    for d in dataset_list:\n",
    "        dataset_id = d.get(\"voteButton\", {}).get(\"datasetId\", \"N/A\")  # Extract dataset ID\n",
    "        category = \"cv\"  # Set category to \"cv\"\n",
    "        name = d.get(\"datasource\", {}).get(\"title\", \"N/A\")  # Dataset Name\n",
    "        description = d.get(\"datasource\", {}).get(\"overview\", \"N/A\")  # Description\n",
    "        \n",
    "        # Extract Year from `dateUpdated`\n",
    "        year_match = re.search(r\"(\\d{4})\", d.get(\"dateUpdated\", \"\"))\n",
    "        year = year_match.group(1) if year_match else \"N/A\"\n",
    "        \n",
    "        # Construct Paper Link\n",
    "        paper_link = f\"https://www.kaggle.com{d.get('datasetUrl', '')}\"\n",
    "\n",
    "        license_name = d.get(\"licenseName\", \"N/A\")  # License\n",
    "        \n",
    "        # PDF Link set to \"see paper link\"\n",
    "        pdf_link = \"Kaggle\"\n",
    "\n",
    "        # Write row to CSV\n",
    "        writer.writerow([dataset_id, category, name, description, year, paper_link, license_name, pdf_link])\n",
    "\n",
    "print(f\"✅ Successfully saved {len(dataset_list)} Kaggle datasets to {csv_filename}\")\n"
   ]
  },
  {
   "cell_type": "markdown",
   "metadata": {},
   "source": [
    "### 2. Natural Language Processing (NLP)"
   ]
  },
  {
   "cell_type": "code",
   "execution_count": 3,
   "metadata": {},
   "outputs": [
    {
     "name": "stdout",
     "output_type": "stream",
     "text": [
      "✅ Successfully saved 80 Kaggle datasets to ./csv_files/kaggle_nlp_datasets.csv\n"
     ]
    }
   ],
   "source": [
    "# Load Kaggle JSON response\n",
    "file_path = \"./source/kaggle_nlp_datasets.json\"  # Update if needed\n",
    "\n",
    "with open(file_path, \"r\", encoding=\"utf-8\") as file:\n",
    "    data = json.load(file)  # Load JSON\n",
    "\n",
    "# Extract dataset list\n",
    "dataset_list = data.get(\"datasetList\", {}).get(\"items\", [])\n",
    "\n",
    "# Define CSV output file\n",
    "csv_filename = \"./csv_files/kaggle_nlp_datasets.csv\"\n",
    "\n",
    "# Open CSV file and write data\n",
    "with open(csv_filename, mode=\"w\", newline=\"\", encoding=\"utf-8\") as file:\n",
    "    writer = csv.writer(file)\n",
    "\n",
    "    # Write CSV header\n",
    "    writer.writerow([\"ID\", \"Category\", \"Name\", \"Description\", \"Year\", \"Link\", \"License\", \"PDF\"])\n",
    "\n",
    "    # Write dataset rows\n",
    "    for d in dataset_list:\n",
    "        dataset_id = d.get(\"voteButton\", {}).get(\"datasetId\", \"N/A\")  # Extract dataset ID\n",
    "        category = \"nlp\"  # Set category to \"nlp\"\n",
    "        name = d.get(\"datasource\", {}).get(\"title\", \"N/A\")  # Dataset Name\n",
    "        description = d.get(\"datasource\", {}).get(\"overview\", \"N/A\")  # Description\n",
    "        \n",
    "        # Extract Year from `dateUpdated`\n",
    "        year_match = re.search(r\"(\\d{4})\", d.get(\"dateUpdated\", \"\"))\n",
    "        year = year_match.group(1) if year_match else \"N/A\"\n",
    "        \n",
    "        # Construct Paper Link\n",
    "        paper_link = f\"https://www.kaggle.com{d.get('datasetUrl', '')}\"\n",
    "\n",
    "        license_name = d.get(\"licenseName\", \"N/A\")  # License\n",
    "        \n",
    "        # PDF Link set to \"see paper link\"\n",
    "        pdf_link = \"Kaggle\"\n",
    "\n",
    "        # Write row to CSV\n",
    "        writer.writerow([dataset_id, category, name, description, year, paper_link, license_name, pdf_link])\n",
    "\n",
    "print(f\"✅ Successfully saved {len(dataset_list)} Kaggle datasets to {csv_filename}\")\n"
   ]
  },
  {
   "cell_type": "markdown",
   "metadata": {},
   "source": [
    "## Next steps\n",
    "On Elasticsearch:\n",
    "- Imlpement semantic search on the extracted dataset\n",
    "- Test the functionality\n",
    "- Implement features (ranking, suggestions)\n",
    "- Add more data to the index (DB)"
   ]
  },
  {
   "cell_type": "markdown",
   "metadata": {},
   "source": []
  }
 ],
 "metadata": {
  "kernelspec": {
   "display_name": "ML",
   "language": "python",
   "name": "python3"
  },
  "language_info": {
   "codemirror_mode": {
    "name": "ipython",
    "version": 3
   },
   "file_extension": ".py",
   "mimetype": "text/x-python",
   "name": "python",
   "nbconvert_exporter": "python",
   "pygments_lexer": "ipython3",
   "version": "3.13.2"
  }
 },
 "nbformat": 4,
 "nbformat_minor": 2
}
